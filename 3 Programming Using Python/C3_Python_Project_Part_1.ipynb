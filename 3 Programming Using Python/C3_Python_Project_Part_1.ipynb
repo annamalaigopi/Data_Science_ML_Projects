{
 "cells": [
  {
   "cell_type": "code",
   "execution_count": 1,
   "id": "aa715749-e00e-4470-8b90-48f94401486c",
   "metadata": {},
   "outputs": [
    {
     "name": "stdout",
     "output_type": "stream",
     "text": [
      "Welcome to the Riddle Game!\n"
     ]
    },
    {
     "name": "stdin",
     "output_type": "stream",
     "text": [
      "Riddle: I speak without a mouth and hear without ears. I have no body, but I come alive with the wind. What am I?\n",
      "Your answer:  An echo\n"
     ]
    },
    {
     "name": "stdout",
     "output_type": "stream",
     "text": [
      "Correct!\n",
      "\n"
     ]
    },
    {
     "name": "stdin",
     "output_type": "stream",
     "text": [
      "Do you want to play again? (yes/no):  yes\n",
      "Riddle: What comes once in a minute, twice in a moment, but never in a thousand years?\n",
      "Your answer:  The letter 'm'\n"
     ]
    },
    {
     "name": "stdout",
     "output_type": "stream",
     "text": [
      "Correct!\n",
      "\n"
     ]
    },
    {
     "name": "stdin",
     "output_type": "stream",
     "text": [
      "Do you want to play again? (yes/no):  no\n"
     ]
    },
    {
     "name": "stdout",
     "output_type": "stream",
     "text": [
      "Your score: 66.67%\n"
     ]
    }
   ],
   "source": [
    "# Task 1\n",
    "import random\n",
    "\n",
    "riddles = { \"What has keys but can't open locks?\": \"A piano\",\n",
    "            \"I speak without a mouth and hear without ears. I have no body, but I come alive with the wind. What am I?\": \"An echo\",\n",
    "            \"What comes once in a minute, twice in a moment, but never in a thousand years?\": \"The letter 'm'\",}\n",
    "def play_riddle_game():\n",
    "    correct_answers = 0\n",
    "    total_riddles = len(riddles)\n",
    "    while True:\n",
    "        riddle, answer = random.choice(list(riddles.items()))\n",
    "        user_answer = input(f\"Riddle: {riddle}\\nYour answer: \").strip().lower()\n",
    "        if user_answer == answer.lower():\n",
    "            print(\"Correct!\\n\")\n",
    "            correct_answers += 1\n",
    "        else:\n",
    "            print(f\"Incorrect. The correct answer is: {answer}\\n\")\n",
    "\n",
    "        play_again = input(\"Do you want to play again? (yes/no): \").strip().lower()\n",
    "        if play_again != \"yes\":\n",
    "            break\n",
    "\n",
    "    score_percentage = (correct_answers / total_riddles) * 100\n",
    "    print(f\"Your score: {score_percentage:.2f}%\")\n",
    "\n",
    "if __name__ == \"__main__\":\n",
    "    print(\"Welcome to the Riddle Game!\")\n",
    "    play_riddle_game()\n"
   ]
  },
  {
   "cell_type": "code",
   "execution_count": 9,
   "id": "b86ce464-2e12-4ae4-8e96-508ff8a79c8a",
   "metadata": {},
   "outputs": [
    {
     "name": "stdin",
     "output_type": "stream",
     "text": [
      "What is 15 - 10?  5\n"
     ]
    },
    {
     "name": "stdout",
     "output_type": "stream",
     "text": [
      "Correct!\n",
      "\n"
     ]
    },
    {
     "name": "stdin",
     "output_type": "stream",
     "text": [
      "Do you want to play again? (yes/no):  no\n"
     ]
    },
    {
     "name": "stdout",
     "output_type": "stream",
     "text": [
      "Your score: 100.00%\n"
     ]
    }
   ],
   "source": [
    "# task 2\n",
    "import random\n",
    "\n",
    "def generate_numbers_and_operator():\n",
    "    num1 = random.randint(1, 20)\n",
    "    num2 = random.randint(1, 20)\n",
    "    operator = random.choice(['+', '-', '*', '/'])\n",
    "    return num1, num2, operator\n",
    "\n",
    "def calculate_result(num1, num2, operator):\n",
    "    if operator == '+':\n",
    "        return num1 + num2\n",
    "    elif operator == '-':\n",
    "        return num1 - num2\n",
    "    elif operator == '*':\n",
    "        return num1 * num2\n",
    "    elif operator == '/':\n",
    "        return num1 / num2\n",
    "\n",
    "def main():\n",
    "    correct_answers = 0\n",
    "    total_attempts = 0\n",
    "\n",
    "    while True:\n",
    "        num1, num2, operator = generate_numbers_and_operator()\n",
    "        result = calculate_result(num1, num2, operator)\n",
    "\n",
    "        try:\n",
    "            user_answer = float(input(f\"What is {num1} {operator} {num2}? \"))\n",
    "            total_attempts += 1\n",
    "\n",
    "            if user_answer == result:\n",
    "                print(\"Correct!\\n\")\n",
    "                correct_answers += 1\n",
    "            else:\n",
    "                print(f\"Oops! The correct answer was {result}\\n\")\n",
    "\n",
    "        except ValueError:\n",
    "            print(\"Invalid input. Please enter a valid numeric answer.\\n\")\n",
    "\n",
    "        play_again = input(\"Do you want to play again? (yes/no): \").lower()\n",
    "        if play_again != 'yes':\n",
    "            break\n",
    "\n",
    "    if total_attempts > 0:\n",
    "        score_percentage = (correct_answers / total_attempts) * 100\n",
    "        print(f\"Your score: {score_percentage:.2f}%\")\n",
    "\n",
    "if __name__ == \"__main__\":\n",
    "    main()\n",
    "\n"
   ]
  },
  {
   "cell_type": "code",
   "execution_count": 7,
   "id": "92e28917-d180-4b44-bdb6-eda27c224527",
   "metadata": {},
   "outputs": [
    {
     "name": "stdout",
     "output_type": "stream",
     "text": [
      "Welcome to the General Knowledge Quiz!\n",
      "Choose your category from the following list:\n",
      "1. Science-based\n",
      "2. Mathematics-based\n",
      "3. Geography-based\n",
      "4. Others\n"
     ]
    },
    {
     "name": "stdin",
     "output_type": "stream",
     "text": [
      "Enter the number corresponding to your choice:  1\n",
      "Which gas do plants absorb during photosynthesis?\n",
      "Your answer:  Carbon dioxide\n"
     ]
    },
    {
     "name": "stdout",
     "output_type": "stream",
     "text": [
      "Correct!\n",
      "\n",
      "You answered 1 out of 3 questions correctly.\n",
      "Your score: 33.33%\n",
      "\n"
     ]
    },
    {
     "name": "stdin",
     "output_type": "stream",
     "text": [
      "What is the full name of the WWW?\n",
      "Your answer:  World Wide Web\n"
     ]
    },
    {
     "name": "stdout",
     "output_type": "stream",
     "text": [
      "Correct!\n",
      "\n",
      "You answered 2 out of 3 questions correctly.\n",
      "Your score: 66.67%\n",
      "\n"
     ]
    },
    {
     "name": "stdin",
     "output_type": "stream",
     "text": [
      "How many bones are there in the adult human body?\n",
      "Your answer:  206\n"
     ]
    },
    {
     "name": "stdout",
     "output_type": "stream",
     "text": [
      "Correct!\n",
      "\n",
      "You answered 3 out of 3 questions correctly.\n",
      "Your score: 100.00%\n",
      "\n"
     ]
    },
    {
     "name": "stdin",
     "output_type": "stream",
     "text": [
      "Do you want to play again? (Yes/No):  no\n"
     ]
    },
    {
     "name": "stdout",
     "output_type": "stream",
     "text": [
      "Thank you for playing the General Knowledge Quiz!\n",
      "\n",
      "Goodbye!\n"
     ]
    }
   ],
   "source": [
    "# Task 3\n",
    "import sys\n",
    " # List of questions and answers for each category\n",
    "science_questions = [\n",
    "    {\"question\": \"Which gas do plants absorb during photosynthesis?\", \"answer\": \"Carbon dioxide\"},\n",
    "    {\"question\": \"What is the full name of the WWW?\", \"answer\": \"World Wide Web\"},\n",
    "    {\"question\": \"How many bones are there in the adult human body?\", \"answer\": \"206\"},\n",
    "]\n",
    "math_questions = [\n",
    "    {\"question\": \"What is the only even prime number?\", \"answer\": \"2\"},\n",
    "    {\"question\": \"What is the sum of the first 5 natural numbers?\", \"answer\": \"15\"},\n",
    "    {\"question\": \"What is the name of the mathematical symbol π?\", \"answer\": \"Pi\"},\n",
    "]\n",
    "geography_questions = [\n",
    "    {\"question\": \"What is the tallest mountain on Earth?\", \"answer\": \"Mount Everest\"},\n",
    "    {\"question\": \"What is the capital of France?\", \"answer\": \"Paris\"},\n",
    "    {\"question\": \"Which planet is known as the 'Red Planet'?\", \"answer\": \"Mars\"},\n",
    "]\n",
    "others_questions = [\n",
    "    {\"question\": \"Which country won the most recent FIFA World Cup (as of 2022)?\", \"answer\": \"Argentina\"},\n",
    "    {\"question\": \"Who invented the light bulb?\", \"answer\": \"Thomas Edison\"},\n",
    "    {\"question\": \"In what year did India declare itself a Democratic and Republic state with the adoption of the Constitution?\", \"answer\": \"1950\"},\n",
    "]\n",
    "# Function to ask the user to choose a category\n",
    "def ask_category():\n",
    "    print(\"Choose your category from the following list:\")\n",
    "    print(\"1. Science-based\")\n",
    "    print(\"2. Mathematics-based\")\n",
    "    print(\"3. Geography-based\")\n",
    "    print(\"4. Others\")\n",
    "\n",
    "    try:\n",
    "        category = int(input(\"Enter the number corresponding to your choice: \"))\n",
    "        if category not in range(1, 5):\n",
    "            raise ValueError(\"Invalid category choice.\")\n",
    "        return category\n",
    "    except ValueError as e:\n",
    "        print(f\"Error: {e}\")\n",
    "        return get_category_choice()\n",
    "\n",
    "# Function to assk user aquestion and get thier answer\n",
    "def ask_question(question):\n",
    "    try:\n",
    "        return input(f\"{question}\\nYour answer: \")\n",
    "    except Exception as e:\n",
    "        print(f\"An unexpected error occurred: {e}\")\n",
    "        return ask_question(question)\n",
    "\n",
    "# Function too check the user's answer and provide feedback\n",
    "def check_answer(user_answer, correct_answer):\n",
    "    if user_answer.strip().lower() == correct_answer.strip().lower():\n",
    "        print(\"Correct!\")\n",
    "        return True\n",
    "    else:\n",
    "        print(f\"Incorrect. The correct answer is {correct_answer}.\")\n",
    "        return False\n",
    "\n",
    "# Function to display the user's score\n",
    "def display_score(questions, score):\n",
    "    total_questions = len(questions)\n",
    "    correct_answers = score\n",
    "    percentage = (correct_answers / total_questions) * 100\n",
    "    print(f\"\\nYou answered {correct_answers} out of {total_questions} questions correctly.\")\n",
    "    print(f\"Your score: {percentage:.2f}%\\n\")\n",
    "\n",
    "# Function to execute  the quiz question and keep track of the score\n",
    "def exec_questions(questions):\n",
    "    score = 0\n",
    "    for q in questions:\n",
    "        user_answer = ask_question(q[\"question\"])\n",
    "        if check_answer(user_answer, q[\"answer\"]):\n",
    "            score += 1\n",
    "            display_score(questions, score)\n",
    "\n",
    "# Main game loopyes\n",
    "def play_game():\n",
    "    print(\"Welcome to the General Knowledge Quiz!\")\n",
    "\n",
    "    while True:\n",
    "        category = ask_category()\n",
    "\n",
    "        if category == 1:\n",
    "            exec_questions(science_questions)\n",
    "        elif category == 2:\n",
    "            exec_questions(math_questions)\n",
    "        elif category == 3:\n",
    "            exec_questions(geography_questions)\n",
    "        elif category == 4:\n",
    "            exec_questions(others_questions)\n",
    "\n",
    "        play_again = input(\"Do you want to play again? (Yes/No): \").strip().lower()\n",
    "        if play_again != 'yes':\n",
    "            break\n",
    "\n",
    "    print(\"Thank you for playing the General Knowledge Quiz!\")\n",
    "\n",
    "# Run the program\n",
    "if __name__ == \"__main__\":\n",
    "    try:\n",
    "        play_game()\n",
    "    except KeyboardInterrupt:\n",
    "        print(\"\\nGame interrupted.\")\n",
    "    finally:\n",
    "        print(\"\\nGoodbye!\")\n",
    "\n"
   ]
  },
  {
   "cell_type": "code",
   "execution_count": 1,
   "id": "c64eca6b-1317-403a-a235-4679265bd981",
   "metadata": {},
   "outputs": [
    {
     "name": "stdout",
     "output_type": "stream",
     "text": [
      "Welcome to Rock-Paper-Scissors!\n"
     ]
    },
    {
     "name": "stdin",
     "output_type": "stream",
     "text": [
      "Enter your choice (Rock/Paper/Scissors):  rock\n"
     ]
    },
    {
     "name": "stdout",
     "output_type": "stream",
     "text": [
      "Player 1 (Computer) chose paper.\n",
      "Player 2 (You) chose rock.\n",
      "Player 1 (Computer) wins!\n"
     ]
    }
   ],
   "source": [
    "import random\n",
    "\n",
    "def get_player_choice():\n",
    "    \"\"\"Get the user's choice (Rock, Paper, or Scissors).\"\"\"\n",
    "    while True:\n",
    "        choice = input(\"Enter your choice (Rock/Paper/Scissors): \").strip().lower()\n",
    "        if choice in [\"rock\", \"paper\", \"scissors\"]:\n",
    "            return choice\n",
    "        else:\n",
    "            print(\"Invalid choice. Please enter Rock, Paper, or Scissors.\")\n",
    "\n",
    "def get_computer_choice():\n",
    "    \"\"\"Generate a random choice for the computer.\"\"\"\n",
    "    return random.choice([\"rock\", \"paper\", \"scissors\"])\n",
    "\n",
    "def determine_winner(player1, player2):\n",
    "    \"\"\"Determine the winner based on the game rules.\"\"\"\n",
    "    if player1 == player2:\n",
    "        return \"It's a tie!\"\n",
    "    elif (player1 == \"rock\" and player2 == \"scissors\") or \\\n",
    "         (player1 == \"scissors\" and player2 == \"paper\") or \\\n",
    "         (player1 == \"paper\" and player2 == \"rock\"):\n",
    "        return \"Player 1 (Computer) wins!\"\n",
    "    else:\n",
    "        return \"Player 2 (You) win!\"\n",
    "\n",
    "def main():\n",
    "    print(\"Welcome to Rock-Paper-Scissors!\")\n",
    "    player1_choice = get_computer_choice()\n",
    "    player2_choice = get_player_choice()\n",
    "\n",
    "    print(f\"Player 1 (Computer) chose {player1_choice}.\")\n",
    "    print(f\"Player 2 (You) chose {player2_choice}.\")\n",
    "\n",
    "    result = determine_winner(player1_choice, player2_choice)\n",
    "    print(result)\n",
    "\n",
    "if __name__ == \"__main__\":\n",
    "    main()\n"
   ]
  },
  {
   "cell_type": "code",
   "execution_count": 3,
   "id": "ae6601ee-eaa8-4201-9087-cce04406e25f",
   "metadata": {},
   "outputs": [
    {
     "name": "stdin",
     "output_type": "stream",
     "text": [
      "Hello user 1! Enter your name:  Annamalai\n",
      "Hello user 2! Enter your name:  Gopi\n",
      "Hello Annamalai! Enter your choice (rock, paper, scissors):  rock\n",
      "Hello Gopi! Enter your choice (rock, paper, scissors):  scissors\n"
     ]
    },
    {
     "name": "stdout",
     "output_type": "stream",
     "text": [
      "Player 1 wins!\n"
     ]
    }
   ],
   "source": [
    "def get_player_choice(player_name):\n",
    "    while True:\n",
    "        choice = input(f\"Hello {player_name}! Enter your choice (rock, paper, scissors): \").lower()\n",
    "        if choice in [\"rock\", \"paper\", \"scissors\"]:\n",
    "            return choice\n",
    "        else:\n",
    "            print(\"Invalid choice. Please enter 'rock', 'paper', or 'scissors'.\")\n",
    "\n",
    "def determine_winner(player1_choice, player2_choice):\n",
    "    if player1_choice == player2_choice:\n",
    "        return \"It's a tie!\"\n",
    "    elif (player1_choice == \"rock\" and player2_choice == \"scissors\") or \\\n",
    "         (player1_choice == \"scissors\" and player2_choice == \"paper\") or \\\n",
    "         (player1_choice == \"paper\" and player2_choice == \"rock\"):\n",
    "        return \"Player 1 wins!\"\n",
    "    else:\n",
    "        return \"Player 2 wins!\"\n",
    "\n",
    "def main():\n",
    "    player1_name = input(\"Hello user 1! Enter your name: \")\n",
    "    player2_name = input(\"Hello user 2! Enter your name: \")\n",
    "\n",
    "    player1_choice = get_player_choice(player1_name)\n",
    "    player2_choice = get_player_choice(player2_name)\n",
    "\n",
    "    result = determine_winner(player1_choice, player2_choice)\n",
    "    print(result)\n",
    "\n",
    "if __name__ == \"__main__\":\n",
    "    main()\n"
   ]
  },
  {
   "cell_type": "code",
   "execution_count": null,
   "id": "0e093c4f-b995-47ef-834f-f65cc4857a45",
   "metadata": {},
   "outputs": [],
   "source": []
  }
 ],
 "metadata": {
  "kernelspec": {
   "display_name": "Python 3 (ipykernel)",
   "language": "python",
   "name": "python3"
  },
  "language_info": {
   "codemirror_mode": {
    "name": "ipython",
    "version": 3
   },
   "file_extension": ".py",
   "mimetype": "text/x-python",
   "name": "python",
   "nbconvert_exporter": "python",
   "pygments_lexer": "ipython3",
   "version": "3.12.4"
  }
 },
 "nbformat": 4,
 "nbformat_minor": 5
}
