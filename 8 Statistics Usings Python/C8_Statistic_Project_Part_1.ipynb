{
 "cells": [
  {
   "cell_type": "code",
   "execution_count": 32,
   "id": "08ddd4d8-d5d8-4706-8e4a-efc01bdcf426",
   "metadata": {},
   "outputs": [],
   "source": [
    "import pandas as pd\n",
    "import numpy as np\n",
    "import matplotlib.pyplot as plt\n",
    "import seaborn as sns\n",
    "from scipy.stats import t\n",
    "from sklearn.model_selection import train_test_split"
   ]
  },
  {
   "cell_type": "code",
   "execution_count": 12,
   "id": "6841088d-c764-4130-840e-d13a3d5a2fba",
   "metadata": {},
   "outputs": [],
   "source": [
    "df=pd.read_csv(r\"C:\\Users\\AnnamalaiG\\OneDrive\\Desktop\\Coures 8\\DS1_C8_Computers_Data_Project.csv\")"
   ]
  },
  {
   "cell_type": "code",
   "execution_count": 14,
   "id": "fb967e24-9a5b-43f6-a860-c7666af5ea71",
   "metadata": {},
   "outputs": [
    {
     "data": {
      "text/html": [
       "<div>\n",
       "<style scoped>\n",
       "    .dataframe tbody tr th:only-of-type {\n",
       "        vertical-align: middle;\n",
       "    }\n",
       "\n",
       "    .dataframe tbody tr th {\n",
       "        vertical-align: top;\n",
       "    }\n",
       "\n",
       "    .dataframe thead th {\n",
       "        text-align: right;\n",
       "    }\n",
       "</style>\n",
       "<table border=\"1\" class=\"dataframe\">\n",
       "  <thead>\n",
       "    <tr style=\"text-align: right;\">\n",
       "      <th></th>\n",
       "      <th>index</th>\n",
       "      <th>price</th>\n",
       "      <th>speed</th>\n",
       "      <th>hd</th>\n",
       "      <th>ram</th>\n",
       "      <th>screen</th>\n",
       "      <th>cd</th>\n",
       "      <th>multi</th>\n",
       "      <th>premium</th>\n",
       "      <th>ads_2022</th>\n",
       "      <th>ads_2023</th>\n",
       "      <th>trend</th>\n",
       "    </tr>\n",
       "  </thead>\n",
       "  <tbody>\n",
       "    <tr>\n",
       "      <th>0</th>\n",
       "      <td>1</td>\n",
       "      <td>1499</td>\n",
       "      <td>25</td>\n",
       "      <td>80</td>\n",
       "      <td>4</td>\n",
       "      <td>14</td>\n",
       "      <td>no</td>\n",
       "      <td>no</td>\n",
       "      <td>yes</td>\n",
       "      <td>94</td>\n",
       "      <td>94</td>\n",
       "      <td>1</td>\n",
       "    </tr>\n",
       "    <tr>\n",
       "      <th>1</th>\n",
       "      <td>2</td>\n",
       "      <td>1795</td>\n",
       "      <td>33</td>\n",
       "      <td>85</td>\n",
       "      <td>2</td>\n",
       "      <td>14</td>\n",
       "      <td>no</td>\n",
       "      <td>no</td>\n",
       "      <td>yes</td>\n",
       "      <td>94</td>\n",
       "      <td>94</td>\n",
       "      <td>1</td>\n",
       "    </tr>\n",
       "    <tr>\n",
       "      <th>2</th>\n",
       "      <td>3</td>\n",
       "      <td>1595</td>\n",
       "      <td>25</td>\n",
       "      <td>170</td>\n",
       "      <td>4</td>\n",
       "      <td>15</td>\n",
       "      <td>no</td>\n",
       "      <td>no</td>\n",
       "      <td>yes</td>\n",
       "      <td>94</td>\n",
       "      <td>94</td>\n",
       "      <td>1</td>\n",
       "    </tr>\n",
       "    <tr>\n",
       "      <th>3</th>\n",
       "      <td>4</td>\n",
       "      <td>1849</td>\n",
       "      <td>25</td>\n",
       "      <td>170</td>\n",
       "      <td>8</td>\n",
       "      <td>14</td>\n",
       "      <td>no</td>\n",
       "      <td>no</td>\n",
       "      <td>no</td>\n",
       "      <td>94</td>\n",
       "      <td>94</td>\n",
       "      <td>1</td>\n",
       "    </tr>\n",
       "    <tr>\n",
       "      <th>4</th>\n",
       "      <td>5</td>\n",
       "      <td>3295</td>\n",
       "      <td>33</td>\n",
       "      <td>340</td>\n",
       "      <td>16</td>\n",
       "      <td>14</td>\n",
       "      <td>no</td>\n",
       "      <td>no</td>\n",
       "      <td>yes</td>\n",
       "      <td>94</td>\n",
       "      <td>104</td>\n",
       "      <td>1</td>\n",
       "    </tr>\n",
       "    <tr>\n",
       "      <th>...</th>\n",
       "      <td>...</td>\n",
       "      <td>...</td>\n",
       "      <td>...</td>\n",
       "      <td>...</td>\n",
       "      <td>...</td>\n",
       "      <td>...</td>\n",
       "      <td>...</td>\n",
       "      <td>...</td>\n",
       "      <td>...</td>\n",
       "      <td>...</td>\n",
       "      <td>...</td>\n",
       "      <td>...</td>\n",
       "    </tr>\n",
       "    <tr>\n",
       "      <th>6254</th>\n",
       "      <td>6255</td>\n",
       "      <td>1690</td>\n",
       "      <td>100</td>\n",
       "      <td>528</td>\n",
       "      <td>8</td>\n",
       "      <td>15</td>\n",
       "      <td>no</td>\n",
       "      <td>no</td>\n",
       "      <td>yes</td>\n",
       "      <td>39</td>\n",
       "      <td>70</td>\n",
       "      <td>35</td>\n",
       "    </tr>\n",
       "    <tr>\n",
       "      <th>6255</th>\n",
       "      <td>6256</td>\n",
       "      <td>2223</td>\n",
       "      <td>66</td>\n",
       "      <td>850</td>\n",
       "      <td>16</td>\n",
       "      <td>15</td>\n",
       "      <td>yes</td>\n",
       "      <td>yes</td>\n",
       "      <td>yes</td>\n",
       "      <td>39</td>\n",
       "      <td>70</td>\n",
       "      <td>35</td>\n",
       "    </tr>\n",
       "    <tr>\n",
       "      <th>6256</th>\n",
       "      <td>6257</td>\n",
       "      <td>2654</td>\n",
       "      <td>100</td>\n",
       "      <td>1200</td>\n",
       "      <td>24</td>\n",
       "      <td>15</td>\n",
       "      <td>yes</td>\n",
       "      <td>no</td>\n",
       "      <td>yes</td>\n",
       "      <td>39</td>\n",
       "      <td>70</td>\n",
       "      <td>35</td>\n",
       "    </tr>\n",
       "    <tr>\n",
       "      <th>6257</th>\n",
       "      <td>6258</td>\n",
       "      <td>2195</td>\n",
       "      <td>100</td>\n",
       "      <td>850</td>\n",
       "      <td>16</td>\n",
       "      <td>15</td>\n",
       "      <td>yes</td>\n",
       "      <td>no</td>\n",
       "      <td>yes</td>\n",
       "      <td>39</td>\n",
       "      <td>70</td>\n",
       "      <td>35</td>\n",
       "    </tr>\n",
       "    <tr>\n",
       "      <th>6258</th>\n",
       "      <td>6259</td>\n",
       "      <td>2490</td>\n",
       "      <td>100</td>\n",
       "      <td>850</td>\n",
       "      <td>16</td>\n",
       "      <td>17</td>\n",
       "      <td>yes</td>\n",
       "      <td>no</td>\n",
       "      <td>yes</td>\n",
       "      <td>39</td>\n",
       "      <td>70</td>\n",
       "      <td>35</td>\n",
       "    </tr>\n",
       "  </tbody>\n",
       "</table>\n",
       "<p>6259 rows × 12 columns</p>\n",
       "</div>"
      ],
      "text/plain": [
       "      index  price  speed    hd  ram  screen   cd multi premium  ads_2022  \\\n",
       "0         1   1499     25    80    4      14   no    no     yes        94   \n",
       "1         2   1795     33    85    2      14   no    no     yes        94   \n",
       "2         3   1595     25   170    4      15   no    no     yes        94   \n",
       "3         4   1849     25   170    8      14   no    no      no        94   \n",
       "4         5   3295     33   340   16      14   no    no     yes        94   \n",
       "...     ...    ...    ...   ...  ...     ...  ...   ...     ...       ...   \n",
       "6254   6255   1690    100   528    8      15   no    no     yes        39   \n",
       "6255   6256   2223     66   850   16      15  yes   yes     yes        39   \n",
       "6256   6257   2654    100  1200   24      15  yes    no     yes        39   \n",
       "6257   6258   2195    100   850   16      15  yes    no     yes        39   \n",
       "6258   6259   2490    100   850   16      17  yes    no     yes        39   \n",
       "\n",
       "      ads_2023  trend  \n",
       "0           94      1  \n",
       "1           94      1  \n",
       "2           94      1  \n",
       "3           94      1  \n",
       "4          104      1  \n",
       "...        ...    ...  \n",
       "6254        70     35  \n",
       "6255        70     35  \n",
       "6256        70     35  \n",
       "6257        70     35  \n",
       "6258        70     35  \n",
       "\n",
       "[6259 rows x 12 columns]"
      ]
     },
     "execution_count": 14,
     "metadata": {},
     "output_type": "execute_result"
    }
   ],
   "source": [
    "df"
   ]
  },
  {
   "cell_type": "code",
   "execution_count": 16,
   "id": "fae31997-4658-4f4d-a064-32e750cab3ea",
   "metadata": {},
   "outputs": [
    {
     "data": {
      "text/plain": [
       "Index(['index', 'price', 'speed', 'hd', 'ram', 'screen', 'cd', 'multi',\n",
       "       'premium', 'ads_2022', 'ads_2023', 'trend'],\n",
       "      dtype='object')"
      ]
     },
     "execution_count": 16,
     "metadata": {},
     "output_type": "execute_result"
    }
   ],
   "source": [
    "df.columns"
   ]
  },
  {
   "cell_type": "code",
   "execution_count": 20,
   "id": "a9e07bcc-0e13-4866-b216-92704e6b8f65",
   "metadata": {},
   "outputs": [
    {
     "name": "stdout",
     "output_type": "stream",
     "text": [
      "Probability of purchasing a computer with the given specifications: 16.02%\n"
     ]
    }
   ],
   "source": [
    "# Task 1 a)\n",
    "filtered_df = df[(df['ram'] >= 8) & (df['screen'] == 14) & (df['speed'] > 33)]\n",
    "filtered_count = filtered_df.shape[0]\n",
    "total_count = df.shape[0]\n",
    "purchase_probability = filtered_count / total_count\n",
    "print(f\"Probability of purchasing a computer with the given specifications: {purchase_probability:.2%}\")"
   ]
  },
  {
   "cell_type": "code",
   "execution_count": 40,
   "id": "d0a75ed1-75c8-4225-b255-73c492f30632",
   "metadata": {},
   "outputs": [
    {
     "name": "stdout",
     "output_type": "stream",
     "text": [
      "There are no premium computers in the dataset.\n"
     ]
    }
   ],
   "source": [
    "# Task 1 b)\n",
    "total_computers = df.shape[0]\n",
    "premium_computers = df[df['premium'] == 1].shape[0]\n",
    "if premium_computers != 0:\n",
    "    probability_premium = premium_computers / total_computers\n",
    "    premium_with_cd = df[(df['premium'] == 1) & (df['cd'] == 1)].shape[0]\n",
    "    probability_cd_given_premium = premium_with_cd / premium_computers\n",
    "\n",
    "    print(f\"Probability of selling a premium computer: {probability_premium:.2%}\")\n",
    "    print(f\"Probability of having a CD player given the computer is premium: {probability_cd_given_premium:.2%}\")\n",
    "else:\n",
    "    print(\"There are no premium computers in the dataset.\")\n"
   ]
  },
  {
   "cell_type": "code",
   "execution_count": 46,
   "id": "98e39f35-4911-460e-a38c-57cd38154ddf",
   "metadata": {},
   "outputs": [
    {
     "name": "stdout",
     "output_type": "stream",
     "text": [
      "There are no non-premium computers in the dataset.\n"
     ]
    }
   ],
   "source": [
    "# Task 1 c)\n",
    "not_premium = df[df['premium'] == 0]\n",
    "not_premium_screen_small = not_premium[not_premium['screen'] <= 14].shape[0]\n",
    "if not_premium.shape[0] != 0:\n",
    "    probability_screen_small_given_not_premium = not_premium_screen_small / not_premium.shape[0]\n",
    "    print(f\"Probability of having a screen size > 15 inches and being premium: {probability_screen_and_premium:.2%}\")\n",
    "    print(f\"Probability of having a small screen size given the computer is not premium: {probability_screen_small_given_not_premium:.2%}\")\n",
    "else:\n",
    "    print(\"There are no non-premium computers in the dataset.\")"
   ]
  },
  {
   "cell_type": "code",
   "execution_count": 42,
   "id": "a9b4d346-d9a5-4528-9878-2c55ac3c0852",
   "metadata": {},
   "outputs": [
    {
     "name": "stdout",
     "output_type": "stream",
     "text": [
      "There are no computers with a CD player in the dataset.\n"
     ]
    }
   ],
   "source": [
    "# Task 1 d)\n",
    "total_computers = df.shape[0]\n",
    "cd_and_multi = df[(df['cd'] == 1) & (df['multi'] == 1)].shape[0]\n",
    "cd_only = df[df['cd'] == 1].shape[0]\n",
    "if cd_only != 0:\n",
    "    joint_probability = cd_and_multi / total_computers\n",
    "    conditional_probability = cd_and_multi / cd_only\n",
    "\n",
    "    print(f\"Joint probability of having both a CD player and a multimedia kit: {joint_probability:.2%}\")\n",
    "    print(f\"Given a computer has a CD player, probability it also has a multimedia kit: {conditional_probability:.2%}\")\n",
    "else:\n",
    "    print(\"There are no computers with a CD player in the dataset.\")"
   ]
  },
  {
   "cell_type": "code",
   "execution_count": 30,
   "id": "21e57538-d5d3-4ff2-99a6-fa27cb2353e8",
   "metadata": {},
   "outputs": [
    {
     "name": "stdout",
     "output_type": "stream",
     "text": [
      "The average price of computers in the whole data is: $2219.58\n"
     ]
    }
   ],
   "source": [
    "# Task 2 a)\n",
    "average_price_population = df['price'].mean()\n",
    "print(f\"The average price of computers in the whole data is: ${average_price_population:.2f}\")"
   ]
  },
  {
   "cell_type": "code",
   "execution_count": 34,
   "id": "ea6d706e-f138-4e21-be82-02ad1bf7d32f",
   "metadata": {},
   "outputs": [
    {
     "name": "stdout",
     "output_type": "stream",
     "text": [
      "Average price using Simple Random Sampling: $2230.97\n",
      "Average price using Systematic Sampling: $2220.65\n",
      "Average price using Stratified Sampling: $nan\n"
     ]
    }
   ],
   "source": [
    "# Task 2 a)\n",
    "sample_size = int(0.1 * df.shape[0])\n",
    "srs_sample = df.sample(n=sample_size, replace=False)\n",
    "srs_avg_price = srs_sample['price'].mean()\n",
    "step = len(df) // sample_size\n",
    "systematic_sample = df.iloc[::step]\n",
    "systematic_avg_price = systematic_sample['price'].mean()\n",
    "\n",
    "strata_premium = df[df['premium'] == 1]\n",
    "strata_non_premium = df[df['premium'] == 0]\n",
    "\n",
    "premium_sample = strata_premium.sample(frac=sample_size / len(df))\n",
    "non_premium_sample = strata_non_premium.sample(frac=sample_size / len(df))\n",
    "\n",
    "stratified_sample = pd.concat([premium_sample, non_premium_sample])\n",
    "stratified_avg_price = stratified_sample['price'].mean()\n",
    "\n",
    "print(f\"Average price using Simple Random Sampling: ${srs_avg_price:.2f}\")\n",
    "print(f\"Average price using Systematic Sampling: ${systematic_avg_price:.2f}\")\n",
    "print(f\"Average price using Stratified Sampling: ${stratified_avg_price:.2f}\")"
   ]
  },
  {
   "cell_type": "code",
   "execution_count": 36,
   "id": "2d458e7b-e291-4fcd-926e-4c947d7f3d64",
   "metadata": {},
   "outputs": [
    {
     "name": "stdout",
     "output_type": "stream",
     "text": [
      "Average price of premium computers: $nan\n",
      "Average price of non-premium computers: $nan\n",
      "Average price of premium computers in sampled data: $nan\n",
      "Average price of non-premium computers in sampled data: $nan\n"
     ]
    }
   ],
   "source": [
    "# Task 2 c)\n",
    "avg_price_premium = df[df['premium'] == 1]['price'].mean()\n",
    "avg_price_non_premium = df[df['premium'] == 0]['price'].mean()\n",
    "print(f\"Average price of premium computers: ${avg_price_premium:.2f}\")\n",
    "print(f\"Average price of non-premium computers: ${avg_price_non_premium:.2f}\")\n",
    "\n",
    "avg_price_premium_sample = srs_sample[srs_sample['premium'] == 1]['price'].mean()\n",
    "avg_price_non_premium_sample = srs_sample[srs_sample['premium'] == 0]['price'].mean()\n",
    "print(f\"Average price of premium computers in sampled data: ${avg_price_premium_sample:.2f}\")\n",
    "print(f\"Average price of non-premium computers in sampled data: ${avg_price_non_premium_sample:.2f}\")"
   ]
  },
  {
   "cell_type": "code",
   "execution_count": 38,
   "id": "6ae548b6-fcf9-4a36-b794-520b6edc1c5e",
   "metadata": {},
   "outputs": [
    {
     "data": {
      "image/png": "[encoded data removed]",
      "text/plain": [
       "<Figure size 1200x800 with 5 Axes>"
      ]
     },
     "metadata": {},
     "output_type": "display_data"
    },
    {
     "name": "stdout",
     "output_type": "stream",
     "text": [
      "Central Limit Theorem Properties Verification:\n",
      "Sample Size 10:\n",
      "- Mean of Sample Means: 2227.94 (Population Mean: 2219.58)\n",
      "- Observed SE: 183.49 (Expected SE: 183.67)\n",
      "\n",
      "Sample Size 30:\n",
      "- Mean of Sample Means: 2220.36 (Population Mean: 2219.58)\n",
      "- Observed SE: 105.27 (Expected SE: 106.04)\n",
      "\n",
      "Sample Size 50:\n",
      "- Mean of Sample Means: 2216.66 (Population Mean: 2219.58)\n",
      "- Observed SE: 81.92 (Expected SE: 82.14)\n",
      "\n",
      "Sample Size 100:\n",
      "- Mean of Sample Means: 2220.09 (Population Mean: 2219.58)\n",
      "- Observed SE: 58.61 (Expected SE: 58.08)\n",
      "\n",
      "Sample Size 200:\n",
      "- Mean of Sample Means: 2220.10 (Population Mean: 2219.58)\n",
      "- Observed SE: 39.90 (Expected SE: 41.07)\n",
      "\n"
     ]
    }
   ],
   "source": [
    "# Task 3\n",
    "\n",
    "sample_sizes = [10, 30, 50, 100, 200]  \n",
    "n_iterations = 1000 \n",
    "population_mean = df['price'].mean()\n",
    "population_std = df['price'].std()\n",
    "sample_means = {}\n",
    "for size in sample_sizes:\n",
    "    means = []\n",
    "    for _ in range(n_iterations):\n",
    "        sample = df['price'].sample(n=size, replace=False)\n",
    "        means.append(sample.mean())\n",
    "    sample_means[size] = means\n",
    "\n",
    "plt.figure(figsize=(12, 8))\n",
    "for i, size in enumerate(sample_sizes, 1):\n",
    "    plt.subplot(2, 3, i)\n",
    "    plt.hist(sample_means[size], bins=30, alpha=0.7, color='blue', edgecolor='black')\n",
    "    plt.title(f'Sample Size {size}')\n",
    "    plt.xlabel('Sample Mean')\n",
    "    plt.ylabel('Frequency')\n",
    "plt.tight_layout()\n",
    "plt.show()\n",
    "\n",
    "print(\"Central Limit Theorem Properties Verification:\")\n",
    "for size in sample_sizes:\n",
    "    mean_of_means = np.mean(sample_means[size])\n",
    "    std_error = np.std(sample_means[size]) \n",
    "    expected_se = population_std / np.sqrt(size)\n",
    "    print(f\"Sample Size {size}:\")\n",
    "    print(f\"- Mean of Sample Means: {mean_of_means:.2f} (Population Mean: {population_mean:.2f})\")\n",
    "    print(f\"- Observed SE: {std_error:.2f} (Expected SE: {expected_se:.2f})\\n\")\n"
   ]
  },
  {
   "cell_type": "code",
   "execution_count": null,
   "id": "cf111d4d-9652-4aae-a30f-78e69a441763",
   "metadata": {},
   "outputs": [],
   "source": []
  }
 ],
 "metadata": {
  "kernelspec": {
   "display_name": "Python 3 (ipykernel)",
   "language": "python",
   "name": "python3"
  },
  "language_info": {
   "codemirror_mode": {
    "name": "ipython",
    "version": 3
   },
   "file_extension": ".py",
   "mimetype": "text/x-python",
   "name": "python",
   "nbconvert_exporter": "python",
   "pygments_lexer": "ipython3",
   "version": "3.12.4"
  }
 },
 "nbformat": 4,
 "nbformat_minor": 5
}
