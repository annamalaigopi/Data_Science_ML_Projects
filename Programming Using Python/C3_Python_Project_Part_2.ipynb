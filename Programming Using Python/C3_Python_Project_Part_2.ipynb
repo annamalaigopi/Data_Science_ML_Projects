{
 "cells": [
  {
   "cell_type": "code",
   "execution_count": 4,
   "id": "4accaa46-503f-4b1f-90d6-a52b8fdb2fd4",
   "metadata": {},
   "outputs": [
    {
     "name": "stdout",
     "output_type": "stream",
     "text": [
      "\n",
      "Riddle:\n",
      "I speak without a mouth and hear without ears. I have no body, but I come alive with the wind. What am I?\n"
     ]
    },
    {
     "name": "stdin",
     "output_type": "stream",
     "text": [
      "Your answer:  an echo\n"
     ]
    },
    {
     "name": "stdout",
     "output_type": "stream",
     "text": [
      "Correct!\n"
     ]
    },
    {
     "name": "stdin",
     "output_type": "stream",
     "text": [
      "Do you want to play again? (yes/no):  no\n"
     ]
    },
    {
     "name": "stdout",
     "output_type": "stream",
     "text": [
      "\n",
      "Your score: 100.00%\n"
     ]
    }
   ],
   "source": [
    "# Task 1\n",
    "import random\n",
    "\n",
    "# List of secret words\n",
    "secret_words = [\"apple\", \"banana\", \"cherry\", \"date\", \"elderberry\", \"fig\", \"grape\"]\n",
    "\n",
    "def choose_secret_word():\n",
    "    \"\"\"Selects a random secret word from the list.\"\"\"\n",
    "    return random.choice(secret_words)\n",
    "\n",
    "def display_word(word, guessed_letters):\n",
    "    \"\"\"Displays the word with underscores for unguessed letters.\"\"\"\n",
    "    display = \"\"\n",
    "    for letter in word:\n",
    "        if letter in guessed_letters:\n",
    "            display += letter\n",
    "        else:\n",
    "            display += \"_\"\n",
    "    return display\n",
    "\n",
    "def main():\n",
    "    secret_word = choose_secret_word()\n",
    "    guessed_letters = set()\n",
    "\n",
    "    print(\"Welcome to the Word Guessing Game!\")\n",
    "    print(\"Try to guess the secret word.\")\n",
    "\n",
    "    while True:\n",
    "        display = display_word(secret_word, guessed_letters)\n",
    "        print(f\"Current word: {display}\")\n",
    "\n",
    "        guess = input(\"Enter a letter: \").lower()\n",
    "\n",
    "        if len(guess) != 1 or not guess.isalpha():\n",
    "            print(\"Please enter a single letter.\")\n",
    "            continue\n",
    "\n",
    "        guessed_letters.add(guess)\n",
    "\n",
    "        if guess in secret_word:\n",
    "            print(\"Correct guess!\")\n",
    "        else:\n",
    "            print(\"Incorrect guess. Try again.\")\n",
    "\n",
    "        if set(secret_word) == guessed_letters:\n",
    "            print(f\"Congratulations! You guessed the word: {secret_word}\")\n",
    "            break\n",
    "\n",
    "if __name__ == \"__main__\":\n",
    "    main()\n",
    "\n"
   ]
  },
  {
   "cell_type": "code",
   "execution_count": 3,
   "id": "b6474ef2-7495-4145-a2e4-631b49edbf7b",
   "metadata": {},
   "outputs": [
    {
     "name": "stdout",
     "output_type": "stream",
     "text": [
      "Welcome to the Game Menu!\n",
      "\n",
      "1. Play Riddle Puzzle.\n",
      "2. Play Arithmetic Puzzle.\n",
      "3. Play General Knowledge quiz game.\n",
      "4. Play Rock-Paper-Scissors game with the computer.\n",
      "5. Play Rock-Paper-Scissors game with a user.\n",
      "6. Play Word-Guessing game with the computer.\n",
      "\n",
      "Enter any option by typing a number between 1 and 6.\n"
     ]
    },
    {
     "name": "stdin",
     "output_type": "stream",
     "text": [
      "Enter your option:  2\n"
     ]
    },
    {
     "name": "stdout",
     "output_type": "stream",
     "text": [
      "Solve this: 12 + 15 = ?\n"
     ]
    },
    {
     "name": "stdin",
     "output_type": "stream",
     "text": [
      "Your answer:  27\n"
     ]
    },
    {
     "name": "stdout",
     "output_type": "stream",
     "text": [
      "Correct!\n"
     ]
    },
    {
     "name": "stdin",
     "output_type": "stream",
     "text": [
      "\n",
      "Do you want to play another game? (Y/y for Yes, N/n for No):  y\n"
     ]
    },
    {
     "name": "stdout",
     "output_type": "stream",
     "text": [
      "Welcome to the Game Menu!\n",
      "\n",
      "1. Play Riddle Puzzle.\n",
      "2. Play Arithmetic Puzzle.\n",
      "3. Play General Knowledge quiz game.\n",
      "4. Play Rock-Paper-Scissors game with the computer.\n",
      "5. Play Rock-Paper-Scissors game with a user.\n",
      "6. Play Word-Guessing game with the computer.\n",
      "\n",
      "Enter any option by typing a number between 1 and 6.\n"
     ]
    },
    {
     "name": "stdin",
     "output_type": "stream",
     "text": [
      "Enter your option:  1\n"
     ]
    },
    {
     "name": "stdout",
     "output_type": "stream",
     "text": [
      "Riddle: I speak without a mouth and hear without ears. I have no body, but I come alive with wind. What am I?\n"
     ]
    },
    {
     "name": "stdin",
     "output_type": "stream",
     "text": [
      "Your answer:  echo\n"
     ]
    },
    {
     "name": "stdout",
     "output_type": "stream",
     "text": [
      "Correct!\n"
     ]
    },
    {
     "name": "stdin",
     "output_type": "stream",
     "text": [
      "\n",
      "Do you want to play another game? (Y/y for Yes, N/n for No):  n\n"
     ]
    },
    {
     "name": "stdout",
     "output_type": "stream",
     "text": [
      "Goodbye!\n"
     ]
    }
   ],
   "source": [
    "# Task 2\n",
    "import random\n",
    "\n",
    "class GameMenu:\n",
    "\n",
    "    @staticmethod\n",
    "    def menu():\n",
    "        print(\"Welcome to the Game Menu!\\n\")\n",
    "        print(\"1. Play Riddle Puzzle.\")\n",
    "        print(\"2. Play Arithmetic Puzzle.\")\n",
    "        print(\"3. Play General Knowledge quiz game.\")\n",
    "        print(\"4. Play Rock-Paper-Scissors game with the computer.\")\n",
    "        print(\"5. Play Rock-Paper-Scissors game with a user.\")\n",
    "        print(\"6. Play Word-Guessing game with the computer.\")\n",
    "        print(\"\\nEnter any option by typing a number between 1 and 6.\")\n",
    "\n",
    "    @staticmethod\n",
    "    def play_riddle_puzzle():\n",
    "        print(\"Riddle: I speak without a mouth and hear without ears. I have no body, but I come alive with wind. What am I?\")\n",
    "        answer = input(\"Your answer: \")\n",
    "        if answer.lower() == \"echo\":\n",
    "            print(\"Correct!\")\n",
    "        else:\n",
    "            print(\"Wrong! The answer is 'echo'.\")\n",
    "\n",
    "    @staticmethod\n",
    "    def play_arithmetic_puzzle():\n",
    "        print(\"Solve this: 12 + 15 = ?\")\n",
    "        try:\n",
    "            answer = int(input(\"Your answer: \"))\n",
    "            if answer == 27:\n",
    "                print(\"Correct!\")\n",
    "            else:\n",
    "                print(\"Wrong! The answer is 27.\")\n",
    "        except ValueError:\n",
    "            print(\"Invalid input. Please enter a number.\")\n",
    "\n",
    "    @staticmethod\n",
    "    def play_general_knowledge_quiz():\n",
    "        print(\"General Knowledge Question: What is the capital of France?\")\n",
    "        answer = input(\"Your answer: \")\n",
    "        if answer.lower() == \"paris\":\n",
    "            print(\"Correct!\")\n",
    "        else:\n",
    "            print(\"Wrong! The correct answer is 'Paris'.\")\n",
    "\n",
    "    @staticmethod\n",
    "    def play_rock_paper_scissors_computer():\n",
    "        choices = [\"rock\", \"paper\", \"scissors\"]\n",
    "        computer_choice = random.choice(choices)\n",
    "        user_choice = input(\"Enter rock, paper, or scissors: \").lower()\n",
    "        if user_choice not in choices:\n",
    "            print(\"Invalid choice.\")\n",
    "        else:\n",
    "            print(f\"Computer chose: {computer_choice}\")\n",
    "            if user_choice == computer_choice:\n",
    "                print(\"It's a tie!\")\n",
    "            elif (user_choice == \"rock\" and computer_choice == \"scissors\") or \\\n",
    "                 (user_choice == \"scissors\" and computer_choice == \"paper\") or \\\n",
    "                 (user_choice == \"paper\" and computer_choice == \"rock\"):\n",
    "                print(\"You win!\")\n",
    "            else:\n",
    "                print(\"You lose!\")\n",
    "\n",
    "    @staticmethod\n",
    "    def play_rock_paper_scissors_user():\n",
    "        user1_choice = input(\"User 1: Enter rock, paper, or scissors: \").lower()\n",
    "        user2_choice = input(\"User 2: Enter rock, paper, or scissors: \").lower()\n",
    "        if user1_choice not in [\"rock\", \"paper\", \"scissors\"] or user2_choice not in [\"rock\", \"paper\", \"scissors\"]:\n",
    "            print(\"Invalid choice.\")\n",
    "        else:\n",
    "            if user1_choice == user2_choice:\n",
    "                print(\"It's a tie!\")\n",
    "            elif (user1_choice == \"rock\" and user2_choice == \"scissors\") or \\\n",
    "                 (user1_choice == \"scissors\" and user2_choice == \"paper\") or \\\n",
    "                 (user1_choice == \"paper\" and user2_choice == \"rock\"):\n",
    "                print(\"User 1 wins!\")\n",
    "            else:\n",
    "                print(\"User 2 wins!\")\n",
    "\n",
    "    @staticmethod\n",
    "    def play_word_guessing_game():\n",
    "        word = \"python\"\n",
    "        guessed_word = input(\"Guess the programming language: \").lower()\n",
    "        if guessed_word == word:\n",
    "            print(\"Correct! You guessed the word.\")\n",
    "        else:\n",
    "            print(f\"Wrong! The correct word was '{word}'.\")\n",
    "\n",
    "def main():\n",
    "    while True:\n",
    "        try:\n",
    "            GameMenu.menu()\n",
    "            option = int(input(\"Enter your option: \"))\n",
    "            if option == 1:\n",
    "                GameMenu.play_riddle_puzzle()\n",
    "            elif option == 2:\n",
    "                GameMenu.play_arithmetic_puzzle()\n",
    "            elif option == 3:\n",
    "                GameMenu.play_general_knowledge_quiz()\n",
    "            elif option == 4:\n",
    "                GameMenu.play_rock_paper_scissors_computer()\n",
    "            elif option == 5:\n",
    "                GameMenu.play_rock_paper_scissors_user()\n",
    "            elif option == 6:\n",
    "                GameMenu.play_word_guessing_game()\n",
    "            else:\n",
    "                print(\"You have entered the wrong option.\")\n",
    "\n",
    "            repeat = input(\"\\nDo you want to play another game? (Y/y for Yes, N/n for No): \").lower()\n",
    "            if repeat not in ['y', 'yes']:\n",
    "                print(\"Goodbye!\")\n",
    "                break\n",
    "        except ValueError:\n",
    "            print(\"Invalid input. Please enter a number between 1 and 6.\")\n",
    "            \n",
    "if __name__ == \"__main__\":\n",
    "    main()\n"
   ]
  }
 ],
 "metadata": {
  "kernelspec": {
   "display_name": "Python 3 (ipykernel)",
   "language": "python",
   "name": "python3"
  },
  "language_info": {
   "codemirror_mode": {
    "name": "ipython",
    "version": 3
   },
   "file_extension": ".py",
   "mimetype": "text/x-python",
   "name": "python",
   "nbconvert_exporter": "python",
   "pygments_lexer": "ipython3",
   "version": "3.12.4"
  }
 },
 "nbformat": 4,
 "nbformat_minor": 5
}
